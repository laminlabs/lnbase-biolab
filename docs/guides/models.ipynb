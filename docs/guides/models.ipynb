{
 "cells": [
  {
   "cell_type": "markdown",
   "id": "0a9571ac-9c68-437f-ba51-95d06e283cac",
   "metadata": {},
   "source": [
    "# Models"
   ]
  },
  {
   "cell_type": "code",
   "execution_count": null,
   "id": "bcc0c374-0224-4935-b862-0b013c624375",
   "metadata": {},
   "outputs": [],
   "source": [
    "from lndb_schema_wetlab import biometa, biosample, dobject_biometa, readout_type"
   ]
  },
  {
   "cell_type": "code",
   "execution_count": null,
   "id": "c7d0beb9",
   "metadata": {},
   "outputs": [],
   "source": [
    "biometa()"
   ]
  },
  {
   "cell_type": "code",
   "execution_count": null,
   "id": "f62cc02e-c0a9-4f55-b806-ec851659d56d",
   "metadata": {},
   "outputs": [],
   "source": [
    "biosample()"
   ]
  },
  {
   "cell_type": "code",
   "execution_count": null,
   "id": "89141bf7-4d8c-4baa-a15d-a76f829097e0",
   "metadata": {},
   "outputs": [],
   "source": [
    "dobject_biometa()"
   ]
  },
  {
   "cell_type": "code",
   "execution_count": null,
   "id": "4f06df7f-a34f-4832-a6b7-238c4a72382e",
   "metadata": {},
   "outputs": [],
   "source": [
    "readout_type()"
   ]
  }
 ],
 "metadata": {
  "kernelspec": {
   "display_name": "Python 3.9.12 ('base1')",
   "language": "python",
   "name": "python3"
  },
  "language_info": {
   "codemirror_mode": {
    "name": "ipython",
    "version": 3
   },
   "file_extension": ".py",
   "mimetype": "text/x-python",
   "name": "python",
   "nbconvert_exporter": "python",
   "pygments_lexer": "ipython3",
   "version": "3.9.12"
  },
  "vscode": {
   "interpreter": {
    "hash": "2775e555cdc2d728c54aa22130c79afb1fa4da64f22f2fc6dcc2aa346c4e0672"
   }
  }
 },
 "nbformat": 4,
 "nbformat_minor": 5
}
