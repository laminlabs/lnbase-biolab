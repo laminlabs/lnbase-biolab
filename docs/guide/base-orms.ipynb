{
 "cells": [
  {
   "attachments": {},
   "cell_type": "markdown",
   "id": "0a9571ac-9c68-437f-ba51-95d06e283cac",
   "metadata": {},
   "source": [
    "# Base classes for ORMs"
   ]
  },
  {
   "cell_type": "code",
   "execution_count": null,
   "id": "53555e71",
   "metadata": {},
   "outputs": [],
   "source": [
    "!lamin init --storage ./testdata"
   ]
  },
  {
   "cell_type": "code",
   "execution_count": null,
   "id": "bcc0c374-0224-4935-b862-0b013c624375",
   "metadata": {},
   "outputs": [],
   "source": [
    "from lnbase_biolab import BiosampleBase"
   ]
  }
 ],
 "metadata": {
  "kernelspec": {
   "display_name": "Python 3.9.12 ('base1')",
   "language": "python",
   "name": "python3"
  },
  "language_info": {
   "codemirror_mode": {
    "name": "ipython",
    "version": 3
   },
   "file_extension": ".py",
   "mimetype": "text/x-python",
   "name": "python",
   "nbconvert_exporter": "python",
   "pygments_lexer": "ipython3",
   "version": "3.9.13"
  },
  "vscode": {
   "interpreter": {
    "hash": "2775e555cdc2d728c54aa22130c79afb1fa4da64f22f2fc6dcc2aa346c4e0672"
   }
  }
 },
 "nbformat": 4,
 "nbformat_minor": 5
}
