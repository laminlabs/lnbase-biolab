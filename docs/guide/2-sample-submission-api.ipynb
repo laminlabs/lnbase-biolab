{
 "cells": [
  {
   "cell_type": "markdown",
   "metadata": {},
   "source": [
    "# Sample Submission"
   ]
  },
  {
   "cell_type": "markdown",
   "metadata": {},
   "source": [
    "The sample submission Python API is served through a single function: `parse_and_insert_df`.\n",
    "\n",
    "`parse_and_insert_df` is ACID-compliant and does not allow for duplicate inserts."
   ]
  },
  {
   "cell_type": "code",
   "execution_count": null,
   "metadata": {},
   "outputs": [],
   "source": [
    "!lndb init --storage \"testsample\" --schema \"bionty,wetlab\""
   ]
  },
  {
   "cell_type": "code",
   "execution_count": null,
   "metadata": {},
   "outputs": [],
   "source": [
    "import pandas as pd\n",
    "import numpy as np\n",
    "import lamindb as ln\n",
    "from lnschema_wetlab.dev import parse_and_insert_df"
   ]
  },
  {
   "cell_type": "markdown",
   "metadata": {},
   "source": [
    "Let's instantiate a dataframe with test sample data."
   ]
  },
  {
   "cell_type": "code",
   "execution_count": null,
   "metadata": {},
   "outputs": [],
   "source": [
    "biosample = pd.DataFrame(\n",
    "    {\n",
    "        \"Name\": [\n",
    "            \"hc_dexameth\",\n",
    "            \"cv_hydrocort_1\",\n",
    "            \"cv_hydrocort_2\",\n",
    "            \"hc_predniso\",\n",
    "            \"hc_triamcino\",\n",
    "        ],\n",
    "        \"Species\": [\"human\", \"human\", \"human\", \"human\", \"human\"],\n",
    "        \"Cell Type\": [\"CD8+T\", \"CD8+T\", \"CD8+T\", \"CD8+T\", \"CD8+T\"],\n",
    "        \"Experiment\": [\"001\", \"002\", \"003\", \"004\", \"004\"],\n",
    "        \"Donor\": [\"021\", \"027\", \"010\", \"049\", \"002\"],\n",
    "        \"Disease\": [\"U07.1\", \"U07.1\", \"U07.1\", \"I51.9\", \"K83.9\"],\n",
    "        \"Experiment\": [\"001\", \"002\", \"003\", \"004\", np.nan],\n",
    "        \"Perturbation\": [\"A01AC02\", \"A01AC03\", \"A01AC03\", \"A01AC54\", \"A01AC01\"],\n",
    "        \"Custom 1\": [\"healthy\", \"acute\", \"acute\", \"convalescent\", \"recovered\"],\n",
    "        \"Custom 2\": [\"control\", \"covid-19\", \"covid-19\", \"control\", \"control\"],\n",
    "        \"Custom 3\": [12.11, np.nan, 0.87, np.nan, 11.91],\n",
    "    }\n",
    ")\n",
    "\n",
    "techsample = pd.DataFrame(\n",
    "    {\n",
    "        \"Name\": [\"TS001\", \"TS002\", \"TS003\", \"TS004\", \"TS005\"],\n",
    "        \"Batch\": [1, 1, 1, 2, 2],\n",
    "        \"File Type\": [\"fastq\", \"fastq\", \"fastq\", \"fastq\", \"fastq\"],\n",
    "        \"Filepath R1\": [\n",
    "            \"SRX1603629_T1_1.fastq.gz\",\n",
    "            \"SRX1603629_T1_2.fastq.gz\",\n",
    "            \"SRX1603629_T1_3.fastq.gz\",\n",
    "            \"SRX1603629_T1_4.fastq.gz\",\n",
    "            \"SRX1603629_T1_5.fastq.gz\",\n",
    "        ],\n",
    "        \"Filepath R2\": [\n",
    "            \"SRX1603629_T2_1.fastq.gz\",\n",
    "            \"SRX1603629_T2_2.fastq.gz\",\n",
    "            \"SRX1603629_T2_3.fastq.gz\",\n",
    "            \"SRX1603629_T2_4.fastq.gz\",\n",
    "            \"SRX1603629_T2_5.fastq.gz\",\n",
    "        ],\n",
    "        \"Custom 1\": [\"13.42%\", \"2.43%\", \"4.57%\", np.nan, \"9.36%\"],\n",
    "        \"Custom 2\": [\n",
    "            \"Gene Expression\",\n",
    "            \"Gene Expression\",\n",
    "            \"Gene Expression\",\n",
    "            \"Gene Expression\",\n",
    "            \"Gene Expression\",\n",
    "        ],\n",
    "    }\n",
    ")"
   ]
  },
  {
   "cell_type": "markdown",
   "metadata": {},
   "source": [
    "Let's now use `parse_and_insert_df` to process the dataframe and insert the relevant entries in their respective tables.\n",
    "\n",
    "`parse_and_insert_df` takes two arguments as inputs:\n",
    "* A `pandas.DataFrame` with the sample data.\n",
    "* A string with the name of the target LaminDB table (e.g. \"biosample\", \"techsample\").\n",
    "\n",
    "`parse_and_insert_df` currently makes three matching assumptions:\n",
    "* **Table matching (input string to primary (sample) LaminDB table)**: perfect, case insensitive matching.\n",
    "    * Custom schemas take preference over core schemas (core, wetlab, bionty, bfx). E.g `customer.Biosample` takes preference over `wetlab.Biosample`.\n",
    "* **Column matching (input DataFrame columns to secondary LaminDB tables)**: perfect, case insensitive matching.\n",
    "    * Insertion assumption: insertion column on the target table is the first one to contain the \"name\" substring.\n",
    "* **Column matching (input DataFrame columns to primary (sample) LaminDB table columns)**: perfect, case insensitive matching.\n",
    "\n",
    "In the future, we will be able to relax some of these assumptions by building an interactive sample submission UI, where the user will be able to customize mappings."
   ]
  },
  {
   "cell_type": "code",
   "execution_count": null,
   "metadata": {},
   "outputs": [],
   "source": [
    "res_biosample = parse_and_insert_df(biosample, \"biosample\")\n",
    "res_biosample"
   ]
  },
  {
   "cell_type": "code",
   "execution_count": null,
   "metadata": {},
   "outputs": [],
   "source": [
    "res_techsample = parse_and_insert_df(techsample, \"techsample\")\n",
    "res_techsample"
   ]
  },
  {
   "cell_type": "markdown",
   "metadata": {},
   "source": [
    "`parse_and_insert_df` returns a dictionnary with two items: column mappings and table entries.\n",
    "\n",
    "**Column mappings** is a dictionnary with all mappings between the DataFrame column and their respective LaminDB tables and table columns.\n",
    "* Key (str): dataframe column name\n",
    "* Value (tuple): (table name, table column)\n",
    "\n",
    "**Table entries** is a dictionnary with all added entries.\n",
    "* Key (str): table name\n",
    "* Value (list): list with all added LaminDB records"
   ]
  },
  {
   "cell_type": "markdown",
   "metadata": {},
   "source": [
    "We can now check that the entries have been accurately inserted in the database."
   ]
  },
  {
   "cell_type": "code",
   "execution_count": null,
   "metadata": {},
   "outputs": [],
   "source": [
    "ln.view()"
   ]
  }
 ],
 "metadata": {
  "kernelspec": {
   "display_name": "Python 3 (ipykernel)",
   "language": "python",
   "name": "python3"
  },
  "language_info": {
   "codemirror_mode": {
    "name": "ipython",
    "version": 3
   },
   "file_extension": ".py",
   "mimetype": "text/x-python",
   "name": "python",
   "nbconvert_exporter": "python",
   "pygments_lexer": "ipython3",
   "version": "3.9.12"
  },
  "vscode": {
   "interpreter": {
    "hash": "822ec0ac785b1db3d02e7d7754e0de6d47a7bde0a8423738b8340fdea5c0abd9"
   }
  }
 },
 "nbformat": 4,
 "nbformat_minor": 4
}
