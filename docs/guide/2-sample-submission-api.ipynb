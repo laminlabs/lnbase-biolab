{
 "cells": [
  {
   "cell_type": "markdown",
   "metadata": {},
   "source": [
    "# Sample Submission"
   ]
  },
  {
   "cell_type": "markdown",
   "metadata": {},
   "source": [
    "The sample submission Python API is served through a single function: `parse_and_insert_df`.\n",
    "\n",
    "`parse_and_insert_df` is ACID-compliant and does not allow for duplicate inserts."
   ]
  },
  {
   "cell_type": "code",
   "execution_count": null,
   "metadata": {},
   "outputs": [],
   "source": [
    "import pandas as pd\n",
    "import lamindb as ln\n",
    "from lnschema_wetlab.dev import parse_and_insert_df"
   ]
  },
  {
   "cell_type": "code",
   "execution_count": null,
   "metadata": {},
   "outputs": [],
   "source": [
    "!lndb init --storage \"testsample\" --schema \"wetlab,bionty,bfx\""
   ]
  },
  {
   "cell_type": "markdown",
   "metadata": {},
   "source": [
    "Let's instantiate a dataframe with test sample data."
   ]
  },
  {
   "cell_type": "code",
   "execution_count": null,
   "metadata": {},
   "outputs": [],
   "source": [
    "biosample = pd.DataFrame(\n",
    "    {\n",
    "        \"Name\": [\n",
    "            \"dm3_pre_activation\",\n",
    "            \"d0_post_activation\",\n",
    "            \"d1_GFP\",\n",
    "            \"d1_OSKMNL_arm1\",\n",
    "            \"d1_OSKMNL_arm_2\",\n",
    "        ],\n",
    "        \"Experiment\": [\"x80\", \"x80\", \"x80\", \"x80\", \"x80\"],\n",
    "        \"Condition\": [\n",
    "            \"pre-activation\",\n",
    "            \"post-activation\",\n",
    "            \"GFP\",\n",
    "            \"OSKMNL_x1\",\n",
    "            \"OSKMNL_x3\",\n",
    "        ],\n",
    "        \"Transfection\": [None, None, \"GFP-LNP\", \"OSKMNL-LNP\", \"OSKMNL-LNP\"],\n",
    "        \"Day\": [-3, 0, 1, 1, 1],\n",
    "        \"Donor\": [\"Donor 5\", \"Donor 5\", \"Donor 5\", \"Donor 5\", \"Donor 5\"],\n",
    "        \"Species\": [\"human\", \"human\", \"human\", \"human\", \"human\"],\n",
    "        \"CMO\": [None, None, 301, 302, 303],\n",
    "        \"Gene Expression File\": [\"Gm3\", \"G0\", \"G1\", \"G1\", \"G1\"],\n",
    "        \"CMO File\": [None, None, \"T1\", \"T1\", \"T1\"],\n",
    "        \"CSP File\": [None, None, None, None, None],\n",
    "    }\n",
    ")\n",
    "\n",
    "techsample = pd.DataFrame(\n",
    "    {\n",
    "        \"Sample Name\": [\"Gm3\", \"G0\", \"G1\", \"G2\", \"G3\"],\n",
    "        \"Sample ID\": [\"S1\", \"S2\", \"S3\", \"S4\", \"S5\"],\n",
    "        \"Batch\": [1, 1, 1, 1, 1],\n",
    "        \"File Type\": [\"fastq\", \"fastq\", \"fastq\", \"fastq\", \"fastq\"],\n",
    "        \"Sample Type\": [\n",
    "            \"Gene Expression\",\n",
    "            \"Gene Expression\",\n",
    "            \"Gene Expression\",\n",
    "            \"Gene Expression\",\n",
    "            \"Gene Expression\",\n",
    "        ],\n",
    "        \"% Total Read Allocation\": [\"3.28%\", \"4.69%\", \"13.14%\", \"13.14%\", \"13.14%\"],\n",
    "        \"Filepath R1\": [\n",
    "            \"Gm3_S1_L003_R1_001.fastq.gz\",\n",
    "            \"G0_S2_L003_R1_001.fastq.gz\",\n",
    "            \"G1_S3_L003_R1_001.fastq.gz\",\n",
    "            \"G2_S4_L003_R1_001.fastq.gz\",\n",
    "            \"G3_S5_L003_R1_001.fastq.gz\",\n",
    "        ],\n",
    "        \"Filepath R2\": [\n",
    "            \"Gm3_S1_L003_R2_001.fastq.gz\",\n",
    "            \"G0_S2_L003_R2_001.fastq.gz\",\n",
    "            \"G1_S3_L003_R2_001.fastq.gz\",\n",
    "            \"G2_S4_L003_R2_001.fastq.gz\",\n",
    "            \"G3_S5_L003_R2_001.fastq.gz\",\n",
    "        ],\n",
    "    }\n",
    ")"
   ]
  },
  {
   "cell_type": "markdown",
   "metadata": {},
   "source": [
    "Let's now use `parse_and_insert_df` to process the dataframe and insert the relevant entries in their respective tables.\n",
    "\n",
    "`parse_and_insert_df` takes two arguments as inputs:\n",
    "* A `pandas.DataFrame` with the sample data.\n",
    "* A string with the name of the target LaminDB table (e.g. \"biosample\", \"techsample\").\n",
    "\n",
    "`parse_and_insert_df` currently makes three matching assumptions:\n",
    "* **Table matching (input string to primary (sample) LaminDB table)**: perfect, case insensitive matching.\n",
    "    * Custom schemas take preference over core schemas (core, wetlab, bionty, bfx). E.g `retro.Biosample` takes preference over `wetlab.Biosample`.\n",
    "* **Column matching (input DataFrame columns to secondary LaminDB tables)**: perfect, case insensitive matching.\n",
    "    * Insertion assumption: insertion column on the target table is the first one to contain the \"name\" substring.\n",
    "* **Column matching (input DataFrame columns to primary (sample) LaminDB table columns)**: perfect, case insensitive matching.\n",
    "\n",
    "In the future, we will be able to relax some of these assumptions by building an interactive sample submission UI, where the user will be able to customize mappings."
   ]
  },
  {
   "cell_type": "code",
   "execution_count": null,
   "metadata": {},
   "outputs": [],
   "source": [
    "res_biosample = parse_and_insert_df(biosample, \"biosample\")\n",
    "res_biosample"
   ]
  },
  {
   "cell_type": "code",
   "execution_count": null,
   "metadata": {},
   "outputs": [],
   "source": [
    "res_techsample = parse_and_insert_df(techsample, \"techsample\")\n",
    "res_techsample"
   ]
  },
  {
   "cell_type": "markdown",
   "metadata": {},
   "source": [
    "`parse_and_insert_df` returns a dictionnary with two items: column mappings and table entries.\n",
    "\n",
    "**Column mappings** is a dictionnary with all mappings between the DataFrame column and their respective LaminDB tables and table columns.\n",
    "* Key (str): dataframe column name\n",
    "* Value (tuple): (table name, table column)\n",
    "\n",
    "**Table entries** is a dictionnary with all added entries.\n",
    "* Key (str): table name\n",
    "* Value (list): list with all added LaminDB records"
   ]
  },
  {
   "cell_type": "markdown",
   "metadata": {},
   "source": [
    "We can now check that the entries have been accurately inserted in the database."
   ]
  },
  {
   "cell_type": "code",
   "execution_count": null,
   "metadata": {},
   "outputs": [],
   "source": [
    "ln.view()"
   ]
  }
 ],
 "metadata": {
  "kernelspec": {
   "display_name": "Python 3 (ipykernel)",
   "language": "python",
   "name": "python3"
  },
  "language_info": {
   "codemirror_mode": {
    "name": "ipython",
    "version": 3
   },
   "file_extension": ".py",
   "mimetype": "text/x-python",
   "name": "python",
   "nbconvert_exporter": "python",
   "pygments_lexer": "ipython3",
   "version": "3.9.12"
  },
  "vscode": {
   "interpreter": {
    "hash": "822ec0ac785b1db3d02e7d7754e0de6d47a7bde0a8423738b8340fdea5c0abd9"
   }
  }
 },
 "nbformat": 4,
 "nbformat_minor": 4
}
