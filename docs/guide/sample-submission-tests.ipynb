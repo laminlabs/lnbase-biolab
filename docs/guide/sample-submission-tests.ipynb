{
 "cells": [
  {
   "cell_type": "markdown",
   "metadata": {},
   "source": [
    "# Testing Scenarios"
   ]
  },
  {
   "cell_type": "code",
   "execution_count": null,
   "metadata": {},
   "outputs": [],
   "source": [
    "import pandas as pd\n",
    "import numpy as np\n",
    "import lamindb as ln\n",
    "import lamindb.schema as lns\n",
    "from lnschema_wetlab.dev import parse_and_insert_df\n",
    "from lndb_setup import init\n",
    "\n",
    "init(storage=\"testdb\", schema=\"wetlab,bionty,bfx,retro\")"
   ]
  },
  {
   "cell_type": "code",
   "execution_count": null,
   "metadata": {},
   "outputs": [],
   "source": [
    "biosample = pd.DataFrame(\n",
    "    {\n",
    "        \"Name\": [\n",
    "            \"dm3_pre_activation\",\n",
    "            \"d0_post_activation\",\n",
    "            \"d1_GFP\",\n",
    "            \"d1_OSKMNL_arm1\",\n",
    "            \"d1_OSKMNL_arm_2\",\n",
    "        ],\n",
    "        \"Experiment\": [\"x80\", \"x80\", \"x80\", \"x80\", \"x80\"],\n",
    "        \"Condition\": [\n",
    "            \"pre-activation\",\n",
    "            \"post-activation\",\n",
    "            \"GFP\",\n",
    "            \"OSKMNL_x1\",\n",
    "            \"OSKMNL_x3\",\n",
    "        ],\n",
    "        \"Transfection\": [np.nan, np.nan, \"GFP-LNP\", \"OSKMNL-LNP\", \"OSKMNL-LNP\"],\n",
    "        \"Day\": [-3, 0, 1, 1, 1],\n",
    "        \"Donor\": [\"Donor 5\", \"Donor 5\", \"Donor 5\", \"Donor 5\", \"Donor 5\"],\n",
    "        \"Species\": [\"human\", \"human\", \"human\", \"human\", \"human\"],\n",
    "        \"CMO\": [np.nan, np.nan, 301, 302, 303],\n",
    "        \"Gene Expression\": [\"Gm3\", \"G0\", \"G1\", \"G1\", \"G1\"],\n",
    "        \"CMO File\": [np.nan, np.nan, \"T1\", \"T1\", \"T1\"],\n",
    "        \"CSP File\": [np.nan, np.nan, np.nan, np.nan, np.nan],\n",
    "    }\n",
    ")\n",
    "\n",
    "techsample = pd.DataFrame(\n",
    "    {\n",
    "        \"Sample Name\": [\"Gm3\", \"G0\", \"G1\", \"G2\", \"G3\"],\n",
    "        \"Sample ID\": [\"S1\", \"S2\", \"S3\", \"S4\", \"S5\"],\n",
    "        \"Batch\": [1, 1, 1, 1, 1],\n",
    "        \"File Type\": [\"fastq\", \"fastq\", \"fastq\", \"fastq\", \"fastq\"],\n",
    "        \"Sample Type\": [\n",
    "            \"Gene Expression\",\n",
    "            \"Gene Expression\",\n",
    "            \"Gene Expression\",\n",
    "            \"Gene Expression\",\n",
    "            \"Gene Expression\",\n",
    "        ],\n",
    "        \"Percent Total Read Allocation\": [\n",
    "            \"3.28%\",\n",
    "            \"4.69%\",\n",
    "            \"13.14%\",\n",
    "            \"13.14%\",\n",
    "            \"13.14%\",\n",
    "        ],\n",
    "        \"Filepath R1\": [\n",
    "            \"Gm3_S1_L003_R1_001.fastq.gz\",\n",
    "            \"G0_S2_L003_R1_001.fastq.gz\",\n",
    "            \"G1_S3_L003_R1_001.fastq.gz\",\n",
    "            \"G2_S4_L003_R1_001.fastq.gz\",\n",
    "            \"G3_S5_L003_R1_001.fastq.gz\",\n",
    "        ],\n",
    "        \"Filepath R2\": [\n",
    "            \"Gm3_S1_L003_R2_001.fastq.gz\",\n",
    "            \"G0_S2_L003_R2_001.fastq.gz\",\n",
    "            \"G1_S3_L003_R2_001.fastq.gz\",\n",
    "            \"G2_S4_L003_R2_001.fastq.gz\",\n",
    "            \"G3_S5_L003_R2_001.fastq.gz\",\n",
    "        ],\n",
    "    }\n",
    ")"
   ]
  },
  {
   "cell_type": "code",
   "execution_count": null,
   "metadata": {},
   "outputs": [],
   "source": [
    "# Test case #1: no duplicate entries\n",
    "res1 = parse_and_insert_df(biosample, \"biosample\")\n",
    "res2 = parse_and_insert_df(biosample, \"biosample\")\n",
    "res3 = parse_and_insert_df(techsample, \"techsample\")\n",
    "res4 = parse_and_insert_df(techsample, \"techsample\")\n",
    "\n",
    "species = ln.select(lns.bionty.Species).all()\n",
    "biosamples = ln.select(lns.retro.Biosample).all()\n",
    "techsamples = ln.select(lns.retro.Techsample).all()\n",
    "\n",
    "assert len(species) == len(biosample[\"Species\"].unique())\n",
    "assert len(biosamples) == len(biosample)\n",
    "assert len(techsamples) == len(techsamples)"
   ]
  },
  {
   "cell_type": "code",
   "execution_count": null,
   "metadata": {},
   "outputs": [],
   "source": [
    "# Test case #2: target string unmatched\n",
    "import pytest\n",
    "\n",
    "with pytest.raises(ValueError):\n",
    "    res = parse_and_insert_df(biosample, \"biosample_inexistent\")"
   ]
  },
  {
   "cell_type": "code",
   "execution_count": null,
   "metadata": {},
   "outputs": [],
   "source": [
    "# Test case #3: cast integers according to schema\n",
    "biosample2 = biosample.copy()\n",
    "biosample2[\"Species\"][0] = 1\n",
    "res = parse_and_insert_df(biosample2, \"biosample\")\n",
    "species = ln.select(lns.bionty.Species, common_name=\"1\").one()\n",
    "sample = ln.select(lns.retro.Biosample, species_id=species.id).all()\n",
    "assert len(sample) > 0"
   ]
  }
 ],
 "metadata": {
  "kernelspec": {
   "language": "python"
  },
  "language_info": {
   "codemirror_mode": {
    "name": "ipython",
    "version": 3
   },
   "file_extension": ".py",
   "mimetype": "text/x-python",
   "name": "python",
   "nbconvert_exporter": "python",
   "pygments_lexer": "ipython3",
   "version": "3.9.12"
  },
  "vscode": {
   "interpreter": {
    "hash": "822ec0ac785b1db3d02e7d7754e0de6d47a7bde0a8423738b8340fdea5c0abd9"
   }
  }
 },
 "nbformat": 4,
 "nbformat_minor": 2
}
