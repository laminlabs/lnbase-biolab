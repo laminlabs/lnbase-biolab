{
 "cells": [
  {
   "cell_type": "markdown",
   "metadata": {},
   "source": [
    "# Testing Scenarios"
   ]
  },
  {
   "cell_type": "code",
   "execution_count": null,
   "metadata": {},
   "outputs": [],
   "source": [
    "!lndb init --storage \"testsample\" --schema \"bionty,wetlab\""
   ]
  },
  {
   "cell_type": "code",
   "execution_count": null,
   "metadata": {},
   "outputs": [],
   "source": [
    "import pandas as pd\n",
    "import numpy as np\n",
    "import lamindb as ln\n",
    "import lamindb.schema as lns\n",
    "from lnschema_wetlab.dev import parse_and_insert_df\n",
    "import pytest"
   ]
  },
  {
   "cell_type": "code",
   "execution_count": null,
   "metadata": {},
   "outputs": [],
   "source": [
    "biosample = pd.DataFrame(\n",
    "    {\n",
    "        \"Name\": [\n",
    "            \"hc_dexameth\",\n",
    "            \"cv_hydrocort_1\",\n",
    "            \"cv_hydrocort_2\",\n",
    "            \"hc_predniso\",\n",
    "            \"hc_triamcino\",\n",
    "        ],\n",
    "        \"Species\": [\"human\", \"human\", \"human\", \"human\", \"human\"],\n",
    "        \"Cell Type\": [\"CD8+T\", \"CD8+T\", \"CD8+T\", \"CD8+T\", \"CD8+T\"],\n",
    "        \"Experiment\": [\"001\", \"002\", \"003\", \"004\", \"004\"],\n",
    "        \"Donor\": [\"021\", \"027\", \"010\", \"049\", \"002\"],\n",
    "        \"Disease\": [\"U07.1\", \"U07.1\", \"U07.1\", \"I51.9\", \"K83.9\"],\n",
    "        \"Experiment\": [\"001\", \"002\", \"003\", \"004\", np.nan],\n",
    "        \"Perturbation\": [\"A01AC02\", \"A01AC03\", \"A01AC03\", \"A01AC54\", \"A01AC01\"],\n",
    "        \"Custom 1\": [\"healthy\", \"acute\", \"acute\", \"convalescent\", \"recovered\"],\n",
    "        \"Custom 2\": [\"control\", \"covid-19\", \"covid-19\", \"control\", \"control\"],\n",
    "        \"Custom 3\": [12.11, np.nan, 0.87, np.nan, 11.91],\n",
    "    }\n",
    ")\n",
    "\n",
    "techsample = pd.DataFrame(\n",
    "    {\n",
    "        \"Name\": [\"TS001\", \"TS002\", \"TS003\", \"TS004\", \"TS005\"],\n",
    "        \"Batch\": [1, 1, 1, 2, 2],\n",
    "        \"File Type\": [\"fastq\", \"fastq\", \"fastq\", \"fastq\", \"fastq\"],\n",
    "        \"Filepath R1\": [\n",
    "            \"SRX1603629_T1_1.fastq.gz\",\n",
    "            \"SRX1603629_T1_2.fastq.gz\",\n",
    "            \"SRX1603629_T1_3.fastq.gz\",\n",
    "            \"SRX1603629_T1_4.fastq.gz\",\n",
    "            \"SRX1603629_T1_5.fastq.gz\",\n",
    "        ],\n",
    "        \"Filepath R2\": [\n",
    "            \"SRX1603629_T2_1.fastq.gz\",\n",
    "            \"SRX1603629_T2_2.fastq.gz\",\n",
    "            \"SRX1603629_T2_3.fastq.gz\",\n",
    "            \"SRX1603629_T2_4.fastq.gz\",\n",
    "            \"SRX1603629_T2_5.fastq.gz\",\n",
    "        ],\n",
    "        \"Custom 1\": [\"13.42%\", \"2.43%\", \"4.57%\", np.nan, \"9.36%\"],\n",
    "        \"Custom 2\": [\n",
    "            \"Gene Expression\",\n",
    "            \"Gene Expression\",\n",
    "            \"Gene Expression\",\n",
    "            \"Gene Expression\",\n",
    "            \"Gene Expression\",\n",
    "        ],\n",
    "    }\n",
    ")"
   ]
  },
  {
   "cell_type": "markdown",
   "metadata": {},
   "source": [
    "## Test case #1: no duplicate entries"
   ]
  },
  {
   "cell_type": "code",
   "execution_count": null,
   "metadata": {},
   "outputs": [],
   "source": [
    "res1 = parse_and_insert_df(biosample, \"biosample\")\n",
    "res2 = parse_and_insert_df(biosample, \"biosample\")\n",
    "res3 = parse_and_insert_df(techsample, \"techsample\")\n",
    "res4 = parse_and_insert_df(techsample, \"techsample\")\n",
    "\n",
    "species = ln.select(lns.bionty.Species).all()\n",
    "biosamples = ln.select(lns.wetlab.Biosample).all()\n",
    "techsamples = ln.select(lns.wetlab.Techsample).all()\n",
    "\n",
    "assert len(species) == len(biosample[\"Species\"].unique())\n",
    "assert len(biosamples) == len(biosample)\n",
    "assert len(techsamples) == len(techsamples)"
   ]
  },
  {
   "cell_type": "markdown",
   "metadata": {},
   "source": [
    "## Test case #2: target string unmatched"
   ]
  },
  {
   "cell_type": "code",
   "execution_count": null,
   "metadata": {},
   "outputs": [],
   "source": [
    "with pytest.raises(ValueError):\n",
    "    res = parse_and_insert_df(biosample, \"biosample_inexistent\")"
   ]
  },
  {
   "cell_type": "markdown",
   "metadata": {},
   "source": [
    "## Test case #3: cast integers according to schema"
   ]
  },
  {
   "cell_type": "code",
   "execution_count": null,
   "metadata": {},
   "outputs": [],
   "source": [
    "biosample2 = biosample.copy()\n",
    "biosample2[\"Species\"][0] = 1\n",
    "res = parse_and_insert_df(biosample2, \"biosample\")\n",
    "species = ln.select(lns.bionty.Species, common_name=\"1\").one()\n",
    "sample = ln.select(lns.wetlab.Biosample, species_id=species.id).all()\n",
    "assert len(sample) > 0"
   ]
  }
 ],
 "metadata": {
  "kernelspec": {
   "display_name": "Python 3 (ipykernel)",
   "language": "python",
   "name": "python3"
  },
  "language_info": {
   "codemirror_mode": {
    "name": "ipython",
    "version": 3
   },
   "file_extension": ".py",
   "mimetype": "text/x-python",
   "name": "python",
   "nbconvert_exporter": "python",
   "pygments_lexer": "ipython3",
   "version": "3.9.12"
  },
  "vscode": {
   "interpreter": {
    "hash": "822ec0ac785b1db3d02e7d7754e0de6d47a7bde0a8423738b8340fdea5c0abd9"
   }
  }
 },
 "nbformat": 4,
 "nbformat_minor": 4
}
