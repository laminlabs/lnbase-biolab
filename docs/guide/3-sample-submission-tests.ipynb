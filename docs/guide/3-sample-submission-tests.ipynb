{
 "cells": [
  {
   "attachments": {},
   "cell_type": "markdown",
   "metadata": {},
   "source": [
    "# Common edge cases and errors in sample submission"
   ]
  },
  {
   "cell_type": "code",
   "execution_count": null,
   "metadata": {},
   "outputs": [],
   "source": [
    "!lndb init --storage \"testsample\" --schema \"bionty,wetlab\""
   ]
  },
  {
   "cell_type": "code",
   "execution_count": null,
   "metadata": {},
   "outputs": [],
   "source": [
    "import pandas as pd\n",
    "import numpy as np\n",
    "import lamindb as ln\n",
    "import lamindb.schema as lns\n",
    "import re\n",
    "from lnschema_wetlab.dev import parse_and_insert_df, datasets\n",
    "import pytest"
   ]
  },
  {
   "cell_type": "markdown",
   "metadata": {},
   "source": [
    "Let's create simple biosample and techsample examples."
   ]
  },
  {
   "cell_type": "code",
   "execution_count": null,
   "metadata": {},
   "outputs": [],
   "source": [
    "biosample = datasets.biosample()\n",
    "techsample = datasets.techsample()"
   ]
  },
  {
   "cell_type": "code",
   "execution_count": null,
   "metadata": {},
   "outputs": [],
   "source": [
    "biosample"
   ]
  },
  {
   "cell_type": "code",
   "execution_count": null,
   "metadata": {},
   "outputs": [],
   "source": [
    "techsample"
   ]
  },
  {
   "attachments": {},
   "cell_type": "markdown",
   "metadata": {},
   "source": [
    "## Case #1: the same user submits duplicate entries"
   ]
  },
  {
   "attachments": {},
   "cell_type": "markdown",
   "metadata": {},
   "source": [
    "LaminDB's sample submission does not duplicate an existing entry.\n",
    "\n",
    "When an existing entry is submitted, LaminDB simply returns the existing entry in the return object without raising a warning or an error."
   ]
  },
  {
   "cell_type": "code",
   "execution_count": null,
   "metadata": {},
   "outputs": [],
   "source": [
    "# Submit samplesheets\n",
    "res1 = parse_and_insert_df(biosample, \"biosample\")\n",
    "res2 = parse_and_insert_df(biosample, \"biosample\")\n",
    "res3 = parse_and_insert_df(techsample, \"techsample\")\n",
    "res4 = parse_and_insert_df(techsample, \"techsample\")\n",
    "\n",
    "# Fetch database entries\n",
    "species = ln.select(lns.bionty.Species).all()\n",
    "biosamples = ln.select(lns.wetlab.Biosample).all()\n",
    "techsamples = ln.select(lns.wetlab.Techsample).all()\n",
    "\n",
    "# Check for non-duplication\n",
    "assert len(species) == (\n",
    "    len(biosample[\"Species\"].unique()) - int(None in biosample[\"Species\"].unique())\n",
    ")\n",
    "assert len(biosamples) == len(biosample)\n",
    "assert len(techsamples) == len(techsamples)"
   ]
  },
  {
   "attachments": {},
   "cell_type": "markdown",
   "metadata": {},
   "source": [
    "## Case #2: different users submit duplicate entries"
   ]
  },
  {
   "attachments": {},
   "cell_type": "markdown",
   "metadata": {},
   "source": [
    "LaminDB does not duplicate an existing entry, even if the user who submits the existing entry is different.\n",
    "\n",
    "The behavior of `parse_and_insert_df` is the same as in Case #1 (existing entry is returned, no wwarnings or errors are raised.)"
   ]
  },
  {
   "cell_type": "code",
   "execution_count": null,
   "metadata": {},
   "outputs": [],
   "source": [
    "!lndb login testuser2@lamin.ai --password goeoNJKE61ygbz1vhaCVynGERaRrlviPBVQsjkhz"
   ]
  },
  {
   "cell_type": "code",
   "execution_count": null,
   "metadata": {},
   "outputs": [],
   "source": [
    "# Submit samplesheets\n",
    "res1 = parse_and_insert_df(biosample, \"biosample\")\n",
    "res2 = parse_and_insert_df(techsample, \"techsample\")\n",
    "\n",
    "# Fetch database entries\n",
    "species = ln.select(lns.bionty.Species).all()\n",
    "biosamples = ln.select(lns.wetlab.Biosample).all()\n",
    "techsamples = ln.select(lns.wetlab.Techsample).all()\n",
    "\n",
    "# Check for non-duplication\n",
    "assert len(species) == len(biosample[\"Species\"].unique())\n",
    "assert len(biosamples) == len(biosample)\n",
    "assert len(techsamples) == len(techsamples)"
   ]
  },
  {
   "attachments": {},
   "cell_type": "markdown",
   "metadata": {},
   "source": [
    "## Case #3: user submits an existing table with two additional rows or with small modifications to the values of a column"
   ]
  },
  {
   "attachments": {},
   "cell_type": "markdown",
   "metadata": {},
   "source": [
    "For any samplesheet, LaminDB will always fetch existing entries and add new entries.\n",
    "\n",
    "The return object will always contain every entry from the samplesheet (whether it has been fetched or added).\n",
    "\n",
    "If there is the slightest modification to an existing entry, LaminDB will add the modified entry as a new entry (providing that the modified field in the samplesheet is a field in the target table), unless there exists a unique constraint on a field that has not also been modified. In this case, LaminDB will return an error.\n",
    "\n",
    "Let's extend our biosample table with two new entries:\n",
    "* An existing entry named \"hc_hea_021\" with a single modification on the \"Experiment\" field.\n",
    "* An entirely new entry named \"cv_conv_05\"\n",
    "\n",
    "Both entries will be added to the database since there are no unique constraints in the `Biosample` schema."
   ]
  },
  {
   "cell_type": "code",
   "execution_count": null,
   "metadata": {},
   "outputs": [],
   "source": [
    "new_entries = {\n",
    "    \"Name\": [\"hc_hea_021\", \"cv_con_075\"],\n",
    "    \"Species\": [\"human\", \"human\"],\n",
    "    \"Cell Type\": [\"CD4\", \"CD8+T\"],\n",
    "    \"Experiment\": [\"001\", \"007\"],\n",
    "    \"Donor\": [\"021\", \"027\"],\n",
    "    \"Disease\": [None, \"U07.1\"],\n",
    "    \"Custom 1\": [\"healthy\", \"convalescent\"],\n",
    "    \"Custom 2\": [\"control\", \"covid-19\"],\n",
    "    \"Custom 3\": [12.11, 7.83],\n",
    "}\n",
    "biosample_mod = pd.concat([biosample, pd.DataFrame(new_entries)])\n",
    "\n",
    "# Submit samplesheets\n",
    "res = parse_and_insert_df(biosample_mod, \"biosample\")\n",
    "\n",
    "# Fetch database entries\n",
    "species = ln.select(lns.bionty.Species).all()\n",
    "biosamples = ln.select(lns.wetlab.Biosample).all()\n",
    "\n",
    "# Check for successful addition\n",
    "assert len(species) == (\n",
    "    len(biosample_mod[\"Species\"].unique())\n",
    "    - int(None in biosample_mod[\"Species\"].unique())\n",
    ")\n",
    "assert len(biosample) != len(biosample_mod)\n",
    "assert len(biosamples) == len(biosample_mod)"
   ]
  },
  {
   "cell_type": "markdown",
   "metadata": {},
   "source": [
    "## Case #4: user submits a sheet with a typo (e.g. mispelled 'human' species as 'humen')"
   ]
  },
  {
   "cell_type": "markdown",
   "metadata": {},
   "source": [
    "Knowledge (biology and ontology related) checks are not yet implemented. Typos will be added to the database."
   ]
  },
  {
   "attachments": {},
   "cell_type": "markdown",
   "metadata": {},
   "source": [
    "## Case #5: user submits entries with an invalid table name (inexistent table)"
   ]
  },
  {
   "cell_type": "markdown",
   "metadata": {},
   "source": [
    "LaminDB raises an error when it cannot match the table name passed to `parse_and_insert_df` with an existing schema table (perfect, case-insensitive match)."
   ]
  },
  {
   "cell_type": "code",
   "execution_count": null,
   "metadata": {},
   "outputs": [],
   "source": [
    "NO_TABLE_MATCH_ERROR = \"Table [a-zA-Z0-9_]* does not exist.\"\n",
    "with pytest.raises(ValueError, match=NO_TABLE_MATCH_ERROR) as e:\n",
    "    exception = e\n",
    "    res = parse_and_insert_df(biosample, \"biosample_inexistent\")\n",
    "exception.exconly()"
   ]
  }
 ],
 "metadata": {
  "kernelspec": {
   "display_name": "Python 3 (ipykernel)",
   "language": "python",
   "name": "python3"
  },
  "language_info": {
   "codemirror_mode": {
    "name": "ipython",
    "version": 3
   },
   "file_extension": ".py",
   "mimetype": "text/x-python",
   "name": "python",
   "nbconvert_exporter": "python",
   "pygments_lexer": "ipython3",
   "version": "3.9.12"
  },
  "vscode": {
   "interpreter": {
    "hash": "822ec0ac785b1db3d02e7d7754e0de6d47a7bde0a8423738b8340fdea5c0abd9"
   }
  }
 },
 "nbformat": 4,
 "nbformat_minor": 4
}
